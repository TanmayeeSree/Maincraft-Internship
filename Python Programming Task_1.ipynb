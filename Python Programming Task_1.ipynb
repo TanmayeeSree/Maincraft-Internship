{
 "cells": [
  {
   "cell_type": "code",
   "execution_count": 23,
   "id": "b27521ee-b1a9-4046-b57d-998a504d9750",
   "metadata": {},
   "outputs": [
    {
     "name": "stdin",
     "output_type": "stream",
     "text": [
      "Enter the values :  10,56\n"
     ]
    },
    {
     "name": "stdout",
     "output_type": "stream",
     "text": [
      "Sum of 10 and 56 is 66\n"
     ]
    }
   ],
   "source": [
    "# 1. Sum of two number\n",
    "\n",
    "a,b = map(int,input(\"Enter the values : \").split(\",\"))\n",
    "print(\"Sum of {} and {} is {}\".format(a,b,a+b))"
   ]
  },
  {
   "cell_type": "code",
   "execution_count": 35,
   "id": "519df5f3-1006-4b3b-941b-c9ecbccf0021",
   "metadata": {},
   "outputs": [
    {
     "name": "stdin",
     "output_type": "stream",
     "text": [
      "Enter the number :  10\n"
     ]
    },
    {
     "name": "stdout",
     "output_type": "stream",
     "text": [
      "10 is even number\n"
     ]
    }
   ],
   "source": [
    "# 2. Odd or Even Number\n",
    "num = int(input(\"Enter the number : \"))\n",
    "if (num%2 != 0):\n",
    "    print(\"{} is odd number\".format(num))\n",
    "else:\n",
    "    print(\"{} is even number\".format(num))"
   ]
  },
  {
   "cell_type": "code",
   "execution_count": 41,
   "id": "1f64847d-2983-48ab-bed4-fd4ce5432a68",
   "metadata": {},
   "outputs": [
    {
     "name": "stdin",
     "output_type": "stream",
     "text": [
      "Enter the number :  5\n"
     ]
    },
    {
     "name": "stdout",
     "output_type": "stream",
     "text": [
      "Factorial of 5 : 120\n"
     ]
    }
   ],
   "source": [
    "# 3. Factorial Number using loop\n",
    "number = int(input(\"Enter the number : \"))\n",
    "if (number < 0):\n",
    "    print(\"Factorial is not defined for {}.\".format(numbner))\n",
    "else:\n",
    "    factorial = 1\n",
    "    for i in range(1,number+1):\n",
    "        factorial = factorial*i\n",
    "    print(\"Factorial of {} : {}\".format(number,factorial))"
   ]
  },
  {
   "cell_type": "code",
   "execution_count": 43,
   "id": "810fa95b-7db6-4143-9f2d-1d0f1f3e2cb6",
   "metadata": {},
   "outputs": [
    {
     "name": "stdin",
     "output_type": "stream",
     "text": [
      "Enter the number of terms:  5\n"
     ]
    },
    {
     "name": "stdout",
     "output_type": "stream",
     "text": [
      "Fibonacci series:\n",
      "0 1 1 2 3 "
     ]
    }
   ],
   "source": [
    "# 4. Fibonacci Series \n",
    "# Fibonacci series up to n terms\n",
    "n = int(input(\"Enter the number of terms: \"))\n",
    "a, b = 0, 1\n",
    "if n <= 0:\n",
    "    print(\"Please enter a positive integer.\")\n",
    "elif n == 1:\n",
    "    print(\"Fibonacci series up to 1 term:\")\n",
    "    print(a)\n",
    "else:\n",
    "    print(\"Fibonacci series:\")\n",
    "    print(a, b, end=\" \")\n",
    "    for _ in range(2, n):\n",
    "        c = a + b\n",
    "        print(c, end=\" \")\n",
    "        a, b = b, c"
   ]
  },
  {
   "cell_type": "code",
   "execution_count": 73,
   "id": "f0fb0043-2e88-43f6-832a-05dafbd82341",
   "metadata": {},
   "outputs": [
    {
     "name": "stdin",
     "output_type": "stream",
     "text": [
      "Enter a string:  TanmayeeSree\n"
     ]
    },
    {
     "name": "stdout",
     "output_type": "stream",
     "text": [
      "Reversed string: eerSeeyamnaT\n"
     ]
    }
   ],
   "source": [
    "# 5. Reverse a string using a loop\n",
    "string = input(\"Enter a string: \")\n",
    "reversed_string = \"\"\n",
    "for char in string:\n",
    "    reversed_string = char + reversed_string\n",
    "print(\"Reversed string:\", reversed_string)"
   ]
  },
  {
   "cell_type": "code",
   "execution_count": 59,
   "id": "4743d7eb-20df-441b-b747-08fc4c45e3ed",
   "metadata": {},
   "outputs": [
    {
     "name": "stdin",
     "output_type": "stream",
     "text": [
      "Enter a number:  121\n"
     ]
    },
    {
     "name": "stdout",
     "output_type": "stream",
     "text": [
      "121 is a palindrome.\n"
     ]
    }
   ],
   "source": [
    "# 6. Palindrome Check\n",
    "# Palindrome check for numbers\n",
    "num = input(\"Enter a number: \")\n",
    "\n",
    "if num == num[::-1]:\n",
    "    print(f'{num} is a palindrome.')\n",
    "else:\n",
    "    print(f'{num} is not a palindrome.')"
   ]
  },
  {
   "cell_type": "code",
   "execution_count": 67,
   "id": "7f5cccd7-98d3-4c54-82ed-bb77c16cea8e",
   "metadata": {},
   "outputs": [
    {
     "name": "stdin",
     "output_type": "stream",
     "text": [
      "Enter a year:  2024\n"
     ]
    },
    {
     "name": "stdout",
     "output_type": "stream",
     "text": [
      "2024 is a leap year.\n"
     ]
    }
   ],
   "source": [
    "# 7. Leap Year\n",
    "# Leap year check\n",
    "year = int(input(\"Enter a year: \"))\n",
    "\n",
    "if (year % 4 == 0 and year % 100 != 0) or (year % 400 == 0):\n",
    "    print(f\"{year} is a leap year.\")\n",
    "else:\n",
    "    print(f\"{year} is not a leap year.\")"
   ]
  },
  {
   "cell_type": "code",
   "execution_count": 79,
   "id": "1d04482e-1ac2-4199-9233-5906a4fd88df",
   "metadata": {},
   "outputs": [
    {
     "name": "stdin",
     "output_type": "stream",
     "text": [
      "Enter a number:  153\n"
     ]
    },
    {
     "name": "stdout",
     "output_type": "stream",
     "text": [
      "153 is an Armstrong number.\n"
     ]
    }
   ],
   "source": [
    "# 8. Armstrong Number\n",
    "num = int(input(\"Enter a number: \"))\n",
    "order = len(str(num))  # Number of digits\n",
    "sum_of_powers = sum(int(digit) ** order for digit in str(num))\n",
    "\n",
    "if num == sum_of_powers:\n",
    "    print(f\"{num} is an Armstrong number.\")\n",
    "else:\n",
    "    print(f\"{num} is not an Armstrong number.\")"
   ]
  }
 ],
 "metadata": {
  "kernelspec": {
   "display_name": "Python 3 (ipykernel)",
   "language": "python",
   "name": "python3"
  },
  "language_info": {
   "codemirror_mode": {
    "name": "ipython",
    "version": 3
   },
   "file_extension": ".py",
   "mimetype": "text/x-python",
   "name": "python",
   "nbconvert_exporter": "python",
   "pygments_lexer": "ipython3",
   "version": "3.12.4"
  }
 },
 "nbformat": 4,
 "nbformat_minor": 5
}
